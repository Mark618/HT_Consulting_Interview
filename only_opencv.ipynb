{
 "cells": [
  {
   "cell_type": "code",
   "execution_count": 10,
   "metadata": {},
   "outputs": [],
   "source": [
    "import numpy as np\n",
    "from matplotlib import pyplot as plt\n",
    "import cv2"
   ]
  },
  {
   "cell_type": "code",
   "execution_count": 23,
   "metadata": {},
   "outputs": [],
   "source": [
    "def prepro (a):\n",
    "    #Read image\n",
    "    img_path=\"image\"   \n",
    "    new_size = (800, 360)\n",
    "    img=cv2.imread(img_path+\"/sample_\"+str(a)+\".jpg\")\n",
    "    #Resize image\n",
    "    img = cv2.resize(img, new_size)\n",
    "    #Convert to 1 channel image  \n",
    "    img_gray=cv2.cvtColor(img,cv2.COLOR_BGR2GRAY)\n",
    "    #Blur image remove noise\n",
    "    blur_img =cv2.blur(img_gray,(7,7))\n",
    "    #Binarize image using OTSU method\n",
    "    th,img1_bin=cv2.threshold(blur_img,128, 255, cv2.THRESH_OTSU)\n",
    "    #Invert image,Contour find detect white as object and black as background\n",
    "    inverted_img =255-img1_bin\n",
    "    #Make a copy for drawing bounding rectangle\n",
    "    result=inverted_img.copy()\n",
    "    #Process the image by replacing boundry of image with black pixel\n",
    "    border_thickness = 10\n",
    "    mask = np.zeros_like(inverted_img, dtype=np.uint8)\n",
    "    mask[border_thickness:-border_thickness, border_thickness:-border_thickness] = 255\n",
    "    result[mask == 0] = 0\n",
    "    #Find contour\n",
    "    contours, hierarchy = cv2.findContours(result, cv2.RETR_TREE, cv2.CHAIN_APPROX_SIMPLE)\n",
    "    all_con=img.copy()\n",
    "    for contour in contours:\n",
    "    # Get the bounding rectangle of the contour\n",
    "        x, y, w, h = cv2.boundingRect(contour)  \n",
    "        cv2.rectangle(all_con, (x, y), (x + w, y + h), (0, 255, 255), 3)  \n",
    "    \n",
    "        \n",
    "    cv2.imshow(\"Sample_\"+str(a),img)\n",
    "    cv2.waitKey(0)\n",
    "    cv2.destroyAllWindows()\n",
    "    cv2.imshow(\"Sample_\"+str(a)+\"GrayScale\",img_gray)         \n",
    "    cv2.waitKey(0)\n",
    "    cv2.destroyAllWindows()\n",
    "    cv2.imshow(\"Sample_\"+str(a)+\"Blur\",blur_img)         \n",
    "    cv2.waitKey(0)\n",
    "    cv2.destroyAllWindows()\n",
    "    cv2.imshow(\"Sample_\"+str(a)+\"Binarized\",img1_bin)         \n",
    "    cv2.waitKey(0)\n",
    "    cv2.destroyAllWindows()\n",
    "    cv2.imshow(\"Sample_\"+str(a)+\"Inverted\",inverted_img)         \n",
    "    cv2.waitKey(0)\n",
    "    cv2.destroyAllWindows()\n",
    "    cv2.imshow(\"Sample_\"+str(a)+\"Border\",result)         \n",
    "    cv2.waitKey(0)\n",
    "    cv2.destroyAllWindows()\n",
    "    cv2.imshow(\"Sample_\"+str(a)+\"All Contour\",all_con)         \n",
    "    cv2.waitKey(0)\n",
    "    cv2.destroyAllWindows()\n",
    "    #Final result    \n",
    "    min_area=4329\n",
    "    max_area=16000\n",
    "    target_img=img.copy()    \n",
    "    for contour in contours:\n",
    "    # Get the bounding rectangle of the contour\n",
    "        x, y, w, h = cv2.boundingRect(contour)\n",
    "    \n",
    "    # Draw the bounding box on the image\n",
    "        area =w*h\n",
    "        if area>min_area and area<max_area and w<400:\n",
    "            cv2.rectangle(target_img, (x, y), (x + w, y + h), (0, 255, 255), 3)\n",
    "            rect_img = target_img[y:y+h, x:x+w]\n",
    "            cv2.imshow('Logo', rect_img)\n",
    "            #cv2.imwrite(\"logo/sample_\"+str(a)+\"_\"+str(x)+\".jpg\",rect_img)\n",
    "            cv2.waitKey(0)\n",
    "            cv2.destroyAllWindows()\n",
    "\n",
    "    "
   ]
  },
  {
   "cell_type": "code",
   "execution_count": 28,
   "metadata": {},
   "outputs": [],
   "source": [
    "prepro(3)"
   ]
  }
 ],
 "metadata": {
  "kernelspec": {
   "display_name": "venv",
   "language": "python",
   "name": "python3"
  },
  "language_info": {
   "codemirror_mode": {
    "name": "ipython",
    "version": 3
   },
   "file_extension": ".py",
   "mimetype": "text/x-python",
   "name": "python",
   "nbconvert_exporter": "python",
   "pygments_lexer": "ipython3",
   "version": "3.10.6"
  },
  "orig_nbformat": 4
 },
 "nbformat": 4,
 "nbformat_minor": 2
}
